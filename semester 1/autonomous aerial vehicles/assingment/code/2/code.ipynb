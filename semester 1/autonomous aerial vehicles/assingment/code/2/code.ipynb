{
 "cells": [
  {
   "cell_type": "code",
   "execution_count": 1,
   "metadata": {},
   "outputs": [],
   "source": [
    "import os\n",
    "import cv2\n",
    "import math\n",
    "import numpy as np"
   ]
  },
  {
   "cell_type": "code",
   "execution_count": 40,
   "metadata": {},
   "outputs": [],
   "source": [
    "def find_vanishing_point(lines):\n",
    "    \"\"\"\n",
    "    Calculate the vanishing point from a set of lines.\n",
    "    :param lines: List of lines in the format [[x1, y1, x2, y2], ...]\n",
    "    :return: Vanishing point as (x, y)\n",
    "    \"\"\"\n",
    "    intersections = []\n",
    "    \n",
    "    # Iterate through pairs of lines to calculate intersections\n",
    "    for i, line1 in enumerate(lines):\n",
    "        for line2 in lines[i + 1:]:\n",
    "            x1, y1, x2, y2 = line1[0]\n",
    "            x3, y3, x4, y4 = line2[0]\n",
    "\n",
    "            # Calculate line coefficients (a1*x + b1*y + c1 = 0)\n",
    "            a1, b1, c1 = y2 - y1, x1 - x2, x2 * y1 - x1 * y2\n",
    "            a2, b2, c2 = y4 - y3, x3 - x4, x4 * y3 - x3 * y4\n",
    "\n",
    "            # Solve for intersection point using determinant\n",
    "            det = a1 * b2 - a2 * b1\n",
    "            if det != 0:  # Lines are not parallel\n",
    "                x = (b1 * c2 - b2 * c1) / det\n",
    "                y = (a2 * c1 - a1 * c2) / det\n",
    "                intersections.append((x, y))\n",
    "    \n",
    "    # Average all intersection points to find the vanishing point\n",
    "    if intersections:\n",
    "        vp = np.mean(intersections, axis=0)\n",
    "        return tuple(map(int, vp))\n",
    "    else:\n",
    "        return None"
   ]
  },
  {
   "cell_type": "code",
   "execution_count": 41,
   "metadata": {},
   "outputs": [
    {
     "name": "stdout",
     "output_type": "stream",
     "text": [
      "Vanishing Point: (1163, 234)\n"
     ]
    }
   ],
   "source": [
    "\n",
    "# Load an image\n",
    "image = cv2.imread(\"images/Capture.JPG\")\n",
    "gray = cv2.cvtColor(image, cv2.COLOR_BGR2GRAY)\n",
    "\n",
    "# Detect edges and lines\n",
    "edges = cv2.Canny(gray, 50, 150, apertureSize=3)\n",
    "lines = cv2.HoughLinesP(edges, 1, np.pi / 180, threshold=100, minLineLength=50, maxLineGap=10)\n",
    "\n",
    "# Find the vanishing point\n",
    "if lines is not None:\n",
    "    vanishing_point = find_vanishing_point(lines)\n",
    "    if vanishing_point:\n",
    "        # Draw the vanishing point on the image\n",
    "        cv2.circle(image, vanishing_point, 10, (0, 0, 255), -1)\n",
    "        print(f\"Vanishing Point: {vanishing_point}\")\n",
    "    else:\n",
    "        print(\"No vanishing point found.\")\n",
    "else:\n",
    "    print(\"No lines detected.\")\n"
   ]
  },
  {
   "cell_type": "code",
   "execution_count": 42,
   "metadata": {},
   "outputs": [
    {
     "data": {
      "text/plain": [
       "(1163, 234)"
      ]
     },
     "execution_count": 42,
     "metadata": {},
     "output_type": "execute_result"
    }
   ],
   "source": [
    "vanishing_point"
   ]
  },
  {
   "cell_type": "code",
   "execution_count": 49,
   "metadata": {},
   "outputs": [],
   "source": [
    "pitch = np.arctan(vanishing_point[0] - vanishing_point[1])"
   ]
  },
  {
   "cell_type": "code",
   "execution_count": 50,
   "metadata": {},
   "outputs": [
    {
     "data": {
      "text/plain": [
       "1.569719900945845"
      ]
     },
     "execution_count": 50,
     "metadata": {},
     "output_type": "execute_result"
    }
   ],
   "source": [
    "pitch"
   ]
  },
  {
   "cell_type": "code",
   "execution_count": null,
   "metadata": {},
   "outputs": [],
   "source": []
  }
 ],
 "metadata": {
  "kernelspec": {
   "display_name": "torchreid",
   "language": "python",
   "name": "python3"
  },
  "language_info": {
   "codemirror_mode": {
    "name": "ipython",
    "version": 3
   },
   "file_extension": ".py",
   "mimetype": "text/x-python",
   "name": "python",
   "nbconvert_exporter": "python",
   "pygments_lexer": "ipython3",
   "version": "3.7.16"
  }
 },
 "nbformat": 4,
 "nbformat_minor": 2
}
