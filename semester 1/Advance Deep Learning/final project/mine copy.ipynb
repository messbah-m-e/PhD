{
 "cells": [
  {
   "cell_type": "code",
   "execution_count": null,
   "metadata": {},
   "outputs": [],
   "source": []
  },
  {
   "cell_type": "code",
   "execution_count": null,
   "metadata": {},
   "outputs": [],
   "source": [
    "import torch\n",
    "device = \"cuda\" if torch.cuda.is_available() else \"cpu\""
   ]
  },
  {
   "cell_type": "code",
   "execution_count": null,
   "metadata": {},
   "outputs": [],
   "source": [
    "text = \"سلام، من محمد عرفان هستم، من می‌خواهم پروژه درسی ر وتحویل بدم، این متن هم فکر میکنم ب اندازه کافی طولانی باشه برای این که نشون بده درست خروجی گرفتم یا نه. شایدم یه خورده بیشتر بنویسم بد نباشه\"\n",
    "source_image = \"mine\\\\boy.jpg\"   \n",
    "\n",
    "      \n",
    "result_dir = \"./results\"              "
   ]
  },
  {
   "cell_type": "code",
   "execution_count": null,
   "metadata": {},
   "outputs": [
    {
     "name": "stdout",
     "output_type": "stream",
     "text": [
      "using safetensor as default\n",
      "Extracting 3DMM from the source image...\n"
     ]
    },
    {
     "name": "stderr",
     "output_type": "stream",
     "text": [
      "landmark Det:: 100%|██████████| 1/1 [00:00<00:00, 19.68it/s]\n",
      "3DMM Extraction In Video:: 100%|██████████| 1/1 [00:00<00:00, 103.02it/s]"
     ]
    },
    {
     "name": "stdout",
     "output_type": "stream",
     "text": [
      "Extraction complete. Coefficients saved at: ./results\\2025_02_11_10.44.50\\first_frame_dir\\boy.mat\n"
     ]
    },
    {
     "name": "stderr",
     "output_type": "stream",
     "text": [
      "\n"
     ]
    }
   ],
   "source": [
    "import os\n",
    "from time import strftime\n",
    "from src.utils.preprocess import CropAndExtract\n",
    "from src.utils.init_path import init_path\n",
    "\n",
    "preprocess_mode = \"crop\"              #['crop', 'extcrop', 'resize', 'full', 'extfull']\n",
    "\n",
    "checkpoint_dir = \"./checkpoints\"      \n",
    "img_size = 256                       \n",
    "\n",
    "save_dir = os.path.join(result_dir, strftime(\"%Y_%m_%d_%H.%M.%S\"))\n",
    "os.makedirs(save_dir, exist_ok=True)\n",
    "\n",
    "\n",
    "import torch\n",
    "device = \"cuda\" if torch.cuda.is_available() else \"cpu\"\n",
    "\n",
    "\n",
    "sadtalker_paths = init_path(checkpoint_dir, os.path.join(\".\", \"src/config\"), img_size, False, preprocess_mode)\n",
    "\n",
    "\n",
    "preprocess_model = CropAndExtract(sadtalker_paths, device)\n",
    "\n",
    "\n",
    "first_frame_dir = os.path.join(save_dir, \"first_frame_dir\")\n",
    "os.makedirs(first_frame_dir, exist_ok=True)\n",
    "\n",
    "print(\"Extracting 3DMM from the source image...\")\n",
    "first_coeff_path, crop_pic_path, crop_info = preprocess_model.generate(\n",
    "    source_image,\n",
    "    first_frame_dir,\n",
    "    preprocess_mode,\n",
    "    source_image_flag=True,\n",
    "    pic_size=img_size\n",
    ")\n",
    "\n",
    "if first_coeff_path is None:\n",
    "    raise ValueError(\"Failed to extract coefficients from the source image.\")\n",
    "    \n",
    "print(\"Extraction complete. Coefficients saved at:\", first_coeff_path)\n"
   ]
  },
  {
   "cell_type": "code",
   "execution_count": null,
   "metadata": {},
   "outputs": [],
   "source": [
    "from transformers import VitsModel, AutoTokenizer\n",
    "import torch\n",
    "import scipy.io.wavfile\n",
    "\n",
    "\n",
    "model_name = \"facebook/mms-tts-fas\"\n",
    "model = VitsModel.from_pretrained(model_name)\n",
    "tokenizer = AutoTokenizer.from_pretrained(model_name)\n",
    "\n",
    "\n",
    "inputs = tokenizer(text, return_tensors=\"pt\")\n",
    "with torch.no_grad():\n",
    "    waveform = model(**inputs).waveform\n",
    "scipy.io.wavfile.write(result_dir+\"output.wav\", \n",
    "                    rate=model.config.sampling_rate, \n",
    "                    data=waveform[0].numpy())"
   ]
  },
  {
   "cell_type": "code",
   "execution_count": null,
   "metadata": {},
   "outputs": [
    {
     "name": "stderr",
     "output_type": "stream",
     "text": [
      "mel:: 100%|██████████| 149/149 [00:00<00:00, 74496.52it/s]\n"
     ]
    },
    {
     "name": "stdout",
     "output_type": "stream",
     "text": [
      "Converting audio to motion coefficients...\n"
     ]
    },
    {
     "name": "stderr",
     "output_type": "stream",
     "text": [
      "audio2exp:: 100%|██████████| 15/15 [00:00<00:00, 447.73it/s]"
     ]
    },
    {
     "name": "stdout",
     "output_type": "stream",
     "text": [
      "Audio-to-coefficient conversion complete. Coefficients saved at: ./results\\2025_02_11_10.44.50\\boy##output.mat\n"
     ]
    },
    {
     "name": "stderr",
     "output_type": "stream",
     "text": [
      "\n"
     ]
    }
   ],
   "source": [
    "from src.test_audio2coeff import Audio2Coeff\n",
    "from src.generate_batch import get_data\n",
    "\n",
    "\n",
    "audio_path = \"output.wav\"\n",
    "ref_eyeblink = None\n",
    "ref_pose = None\n",
    "\n",
    "\n",
    "batch = get_data(first_coeff_path, audio_path, device, ref_eyeblink, still=False)\n",
    "audio_to_coeff = Audio2Coeff(sadtalker_paths, device)\n",
    "\n",
    "print(\"Converting audio to motion coefficients...\")\n",
    "coeff_path = audio_to_coeff.generate(batch, save_dir, pose_style=0, ref_pose_coeff_path=None)\n",
    "print(\"Audio-to-coefficient conversion complete. Coefficients saved at:\", coeff_path)\n"
   ]
  },
  {
   "cell_type": "code",
   "execution_count": null,
   "metadata": {},
   "outputs": [
    {
     "name": "stdout",
     "output_type": "stream",
     "text": [
      "Rendering the animated video...\n"
     ]
    },
    {
     "name": "stderr",
     "output_type": "stream",
     "text": [
      "Face Renderer:: 100%|██████████| 75/75 [00:27<00:00,  2.77it/s]\n",
      "IMAGEIO FFMPEG_WRITER WARNING: input image is not divisible by macro_block_size=16, resizing from (256, 255) to (256, 256) to ensure video compatibility with most codecs and players. To prevent resizing, make your input image divisible by the macro_block_size or set the macro_block_size to 1 (risking incompatibility).\n"
     ]
    },
    {
     "name": "stdout",
     "output_type": "stream",
     "text": [
      "The generated video is named ./results\\2025_02_11_10.44.50/boy##output.mp4\n",
      "face enhancer....\n"
     ]
    },
    {
     "name": "stderr",
     "output_type": "stream",
     "text": [
      "Face Enhancer:: 100%|██████████| 149/149 [00:30<00:00,  4.96it/s]"
     ]
    },
    {
     "name": "stdout",
     "output_type": "stream",
     "text": [
      "The generated video is named ./results\\2025_02_11_10.44.50/boy##output_enhanced.mp4\n",
      "The generated video is saved as: ./results\\2025_02_11_10.44.50.mp4\n"
     ]
    },
    {
     "name": "stderr",
     "output_type": "stream",
     "text": [
      "\n"
     ]
    }
   ],
   "source": [
    "from src.facerender.animate import AnimateFromCoeff\n",
    "from src.generate_facerender_batch import get_facerender_data\n",
    "\n",
    "batch_size = 2\n",
    "input_yaw = None    \n",
    "input_pitch = None  \n",
    "input_roll = None   \n",
    "expression_scale = 1.0\n",
    "\n",
    "\n",
    "data = get_facerender_data(\n",
    "    coeff_path,         \n",
    "    crop_pic_path,      \n",
    "    first_coeff_path,   \n",
    "    audio_path,         \n",
    "    batch_size,\n",
    "    input_yaw,\n",
    "    input_pitch,\n",
    "    input_roll,\n",
    "    expression_scale=expression_scale,\n",
    "    still_mode=False,\n",
    "    preprocess=preprocess_mode,\n",
    "    size=img_size\n",
    ")\n",
    "\n",
    "\n",
    "animate_from_coeff = AnimateFromCoeff(sadtalker_paths, device)\n",
    "\n",
    "\n",
    "print(\"Rendering the animated video...\")\n",
    "result_video_path = animate_from_coeff.generate(\n",
    "    data,\n",
    "    save_dir,\n",
    "    source_image,\n",
    "    crop_info,\n",
    "    enhancer=\"gfpgan\",         \n",
    "    background_enhancer=None,    \n",
    "    preprocess=preprocess_mode,\n",
    "    img_size=img_size\n",
    ")\n",
    "\n",
    "\n",
    "import shutil\n",
    "final_video = save_dir + \".mp4\"\n",
    "shutil.move(result_video_path, final_video)\n",
    "print(\"The generated video is saved as:\", final_video)\n"
   ]
  },
  {
   "cell_type": "code",
   "execution_count": null,
   "metadata": {},
   "outputs": [],
   "source": [
    "from IPython.display import Video, display\n",
    "display(Video(final_video, embed=True))"
   ]
  }
 ],
 "metadata": {
  "kernelspec": {
   "display_name": "Python 3",
   "language": "python",
   "name": "python3"
  },
  "language_info": {
   "codemirror_mode": {
    "name": "ipython",
    "version": 3
   },
   "file_extension": ".py",
   "mimetype": "text/x-python",
   "name": "python",
   "nbconvert_exporter": "python",
   "pygments_lexer": "ipython3",
   "version": "3.8.20"
  }
 },
 "nbformat": 4,
 "nbformat_minor": 2
}
